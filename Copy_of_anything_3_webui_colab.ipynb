{
  "cells": [
    {
      "cell_type": "markdown",
      "metadata": {
        "id": "view-in-github",
        "colab_type": "text"
      },
      "source": [
        "<a href=\"https://colab.research.google.com/github/jlingenfelser/awesome-ai-art/blob/main/Copy_of_anything_3_webui_colab.ipynb\" target=\"_parent\"><img src=\"https://colab.research.google.com/assets/colab-badge.svg\" alt=\"Open In Colab\"/></a>"
      ]
    },
    {
      "cell_type": "code",
      "execution_count": null,
      "metadata": {
        "id": "SaAJk33ppFw1"
      },
      "outputs": [],
      "source": [
        "!pip install -q https://github.com/camenduru/stable-diffusion-webui-colab/releases/download/0.0.15/xformers-0.0.15.dev0+189828c.d20221207-cp38-cp38-linux_x86_64.whl\n",
        "\n",
        "!git clone https://github.com/camenduru/stable-diffusion-webui\n",
        "!git clone https://github.com/deforum-art/deforum-for-automatic1111-webui /content/stable-diffusion-webui/extensions/deforum-for-automatic1111-webui\n",
        "!git clone https://github.com/yfszzx/stable-diffusion-webui-images-browser /content/stable-diffusion-webui/extensions/stable-diffusion-webui-images-browser\n",
        "!git clone https://github.com/camenduru/stable-diffusion-webui-huggingface /content/stable-diffusion-webui/extensions/stable-diffusion-webui-huggingface\n",
        "%cd /content/stable-diffusion-webui\n",
        "\n",
        "!wget https://huggingface.co/Linaqruf/anything-v3.0/resolve/main/Anything-V3.0-pruned.ckpt -O /content/stable-diffusion-webui/models/Stable-diffusion/Anything-V3.0-pruned.ckpt\n",
        "!wget https://huggingface.co/Linaqruf/anything-v3.0/resolve/main/Anything-V3.0.vae.pt -O /content/stable-diffusion-webui/models/Stable-diffusion/Anything-V3.0-pruned.vae.pt\n",
        "\n",
        "!python launch.py --share --force-enable-xformers"
      ]
    },
    {
      "cell_type": "code",
      "source": [
        "from google.colab import drive\n",
        "drive.mount('/content/gdrive')"
      ],
      "metadata": {
        "id": "SeKJhFaWSV7x"
      },
      "execution_count": null,
      "outputs": []
    },
    {
      "cell_type": "code",
      "source": [
        "import os\n",
        "import zipfile\n",
        "\n",
        "# The directory that you want to zip\n",
        "folder_to_zip = '/content/stable-diffusion-webui/outputs'\n",
        "\n",
        "# Create a ZipFile object\n",
        "zip_file = zipfile.ZipFile('/content/stable-diffusion-webui/outputs/imgzip.zip', 'w')\n",
        "\n",
        "# Iterate over all the files in the directory\n",
        "for root, dirs, files in os.walk(folder_to_zip):\n",
        "    # Add each file to the zip file\n",
        "    for file in files:\n",
        "        zip_file.write(os.path.join(root, file))\n",
        "\n",
        "# Close the zip file\n",
        "zip_file.close()"
      ],
      "metadata": {
        "id": "aSc0daUeB7b7"
      },
      "execution_count": null,
      "outputs": []
    },
    {
      "cell_type": "code",
      "source": [
        "import os\n",
        "import shutil\n",
        "\n",
        "# Set the directory where the .ckpt files are located\n",
        "dst = '/content/gdrive/MyDrive/outputs'\n",
        "src = '/content/stable-diffusion-webui/outputs'\n",
        "\n",
        "# Create an empty list to store the filenames\n",
        "filenames = []\n",
        "ptfiles = []\n",
        "\n",
        "# Iterate through all files in the directory\n",
        "for file in os.listdir(src):\n",
        "  # Check if the file has a .ckpt extension\n",
        "  if file.endswith('.zip'):\n",
        "    # If it does, add the filename to the list\n",
        "    filenames.append(file)\n",
        "  if file.endswith('.vae.pt'):\n",
        "    filenames.append(file)\n",
        "\n",
        "# Iterate through each filename in the list\n",
        "for filename in filenames:\n",
        "  # Set the source file path and destination file path\n",
        "  src_file = os.path.join(src, filename)\n",
        "  dst_file = dst + filename\n",
        "  # Copy the file from the source to the destination\n",
        "  shutil.copy(src_file, dst_file)\n"
      ],
      "metadata": {
        "id": "HINN0uv_COJ-"
      },
      "execution_count": null,
      "outputs": []
    },
    {
      "cell_type": "code",
      "source": [
        "import os\n",
        "import shutil\n",
        "\n",
        "# Set the directory where the .ckpt files are located\n",
        "dst = '/content/gdrive/MyDrive/models'\n",
        "src = '/content/stable-diffusion-webui/models/Stable-diffusion/'\n",
        "\n",
        "# Create an empty list to store the filenames\n",
        "filenames = []\n",
        "ptfiles = []\n",
        "\n",
        "# Iterate through all files in the directory\n",
        "for file in os.listdir(src):\n",
        "  # Check if the file has a .ckpt extension\n",
        "  if file.endswith('.ckpt'):\n",
        "    # If it does, add the filename to the list\n",
        "    filenames.append(file)\n",
        "  if file.endswith('.vae.pt'):\n",
        "    filenames.append(file)\n",
        "\n",
        "# Iterate through each filename in the list\n",
        "for filename in filenames:\n",
        "  # Set the source file path and destination file path\n",
        "  src_file = os.path.join(src, filename)\n",
        "  dst_file = dst + filename\n",
        "  # Copy the file from the source to the destination\n",
        "  shutil.copy(src_file, dst_file)\n"
      ],
      "metadata": {
        "id": "NhEcKZPVSWDl"
      },
      "execution_count": null,
      "outputs": []
    }
  ],
  "metadata": {
    "accelerator": "GPU",
    "colab": {
      "private_outputs": true,
      "provenance": [],
      "include_colab_link": true
    },
    "gpuClass": "standard",
    "kernelspec": {
      "display_name": "Python 3",
      "name": "python3"
    },
    "language_info": {
      "name": "python"
    }
  },
  "nbformat": 4,
  "nbformat_minor": 0
}